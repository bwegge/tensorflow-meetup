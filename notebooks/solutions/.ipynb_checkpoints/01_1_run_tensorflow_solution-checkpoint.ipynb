{
 "cells": [
  {
   "cell_type": "markdown",
   "metadata": {
    "collapsed": true
   },
   "source": [
    "#First TensorFlow exercise"
   ]
  },
  {
   "cell_type": "markdown",
   "metadata": {},
   "source": [
    "Tasks:\n",
    "- implement the function: y = x^2+b\n",
    "- x is the input -> which is feeded on execution\n",
    "- x is a tensor with a shape of [1,10]   \n",
    "- b is a constant value of 2.0\n",
    "- execute the graph just once\n",
    "- plot the function\n",
    "\n",
    "Help:\n",
    "- use the TensorFlow API Documentation [https://www.tensorflow.org/api_docs/](https://www.tensorflow.org/api_docs/)\n",
    "- If you want to plot the function you have to reshape/flatten the array/tensor"
   ]
  },
  {
   "cell_type": "code",
   "execution_count": 3,
   "metadata": {
    "collapsed": false
   },
   "outputs": [
    {
     "name": "stdout",
     "output_type": "stream",
     "text": [
      "[ 2.14112997  2.78207326  2.0752604   2.0053463   2.94482207  2.52364492\n",
      "  2.60084677  2.00999188  2.05138636  2.07291126]\n",
      "[ 0.37567256  0.88434908  0.27433634  0.07311758  0.97201954  0.72363326\n",
      "  0.77514317  0.09995993  0.2266856   0.27002087]\n"
     ]
    },
    {
     "data": {
      "image/png": "[encoded data removed]",
      "text/plain": [
       "<matplotlib.figure.Figure at 0x11e11c550>"
      ]
     },
     "metadata": {},
     "output_type": "display_data"
    }
   ],
   "source": [
    "import tensorflow as tf\n",
    "import numpy as np\n",
    "import matplotlib.pyplot as plt\n",
    "\n",
    "# define the stuff you need\n",
    "x = tf.placeholder(tf.float32)\n",
    "b = tf.constant(2.0) \n",
    "y = tf.square(x)\n",
    "y = tf.add(y, b)\n",
    "\n",
    "sess = tf.Session()\n",
    "init_op = tf.global_variables_initializer()\n",
    "sess.run(init_op)\n",
    "\n",
    "input=np.random.rand(10)\n",
    "evaled_y = sess.run(y,feed_dict={x: input})\n",
    "evaled_y = evaled_y.flatten()\n",
    "\n",
    "print(evaled_y)\n",
    "print(input)\n",
    "\n",
    "plt.plot(input)\n",
    "plt.plot(evaled_y)\n",
    "plt.show()"
   ]
  },
  {
   "cell_type": "code",
   "execution_count": null,
   "metadata": {
    "collapsed": true
   },
   "outputs": [],
   "source": []
  }
 ],
 "metadata": {
  "kernelspec": {
   "display_name": "Python 3",
   "language": "python",
   "name": "python3"
  },
  "language_info": {
   "codemirror_mode": {
    "name": "ipython",
    "version": 3
   },
   "file_extension": ".py",
   "mimetype": "text/x-python",
   "name": "python",
   "nbconvert_exporter": "python",
   "pygments_lexer": "ipython3",
   "version": "3.6.0"
  }
 },
 "nbformat": 4,
 "nbformat_minor": 0
}
