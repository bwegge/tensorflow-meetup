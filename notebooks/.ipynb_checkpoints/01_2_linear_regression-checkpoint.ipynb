{
 "cells": [
  {
   "cell_type": "markdown",
   "metadata": {
    "collapsed": true
   },
   "source": [
    "# Linear Regression in TensorFlow"
   ]
  },
  {
   "cell_type": "markdown",
   "metadata": {},
   "source": [
    "In this code snippet you will implement a linear regression for house prices. As input you have the size of the single houses and their corresponding prices. \n",
    "\n",
    "Tasks:\n",
    "- Construct the linear regression\n",
    "- define the error function\n",
    "- select an optimizer and create a train op\n",
    "- run the snippet\n",
    "\n",
    "Help:\n",
    "\n",
    "use the TensorFlow API Documentation https://www.tensorflow.org/api_docs/"
   ]
  },
  {
   "cell_type": "code",
   "execution_count": null,
   "metadata": {
    "collapsed": false
   },
   "outputs": [],
   "source": [
    "import tensorflow as tf\n",
    "import numpy as np\n",
    "import matplotlib.pyplot as plt"
   ]
  },
  {
   "cell_type": "code",
   "execution_count": null,
   "metadata": {
    "collapsed": false
   },
   "outputs": [],
   "source": [
    "# data as numpy arrays\n",
    "\n",
    "x_input_train = np.asarray([ 2104,  1600,  2400,  1416,  3000,  1985,  1534,  1427,\n",
    "  1380,  1494,  1940,  2000,  1890,  4478,  1268,  2300,\n",
    "  1320,  1236,  2609,  3031,  1767,  1888,  1604,  1962,\n",
    "  3890,  1100,  1458,  2526,  2200,  2637,  1839,  1000,\n",
    "  2040,  3137,  1811,  1437,  1239,  2132,  4215,  2162,\n",
    "  1664,  2238,  2567,  1200,   852,  1852,  1203 ])\n",
    "y_input_train = np.asarray([ 399900,  329900,  369000,  232000,  539900,  299900,  314900,  198999,\n",
    "  212000,  242500,  239999,  347000,  329999,  699900,  259900,  449900,\n",
    "  299900,  199900,  499998,  599000,  252900,  255000,  242900,  259900,\n",
    "  573900,  249900,  464500,  469000,  475000,  299900,  349900,  169900,\n",
    "  314900,  579900,  285900,  249900,  229900,  345000,  549000,  287000,\n",
    "  368500,  329900,  314000,  299000,  179900,  299900,  239500 ])\n",
    "\n",
    "\n",
    "x_input_test = np.asarray([ 1600, 1494, 1236, 1100, 3137, 2238 ])\n",
    "y_input_test = np.asarray([ 329900, 242500, 199900, 249900, 579900, 329900 ])\n",
    "\n",
    "\n",
    "# normalize data\n",
    "\n",
    "def normalize(array):\n",
    "    return (array - array.mean()) / array.std()\n",
    "\n",
    "x_input_train_n = normalize(x_input_train)\n",
    "y_input_train_n = normalize(y_input_train)\n",
    "x_input_test_n = normalize(x_input_test)\n",
    "y_input_test_n = normalize(y_input_test)\n",
    "\n",
    "\n",
    "\n",
    "\n",
    "\n",
    "\n",
    "\n"
   ]
  },
  {
   "cell_type": "code",
   "execution_count": null,
   "metadata": {
    "collapsed": false
   },
   "outputs": [],
   "source": [
    "\n",
    "# placeholder for the input\n",
    "\n",
    "X = tf.placeholder(\"float\")\n",
    "Y = tf.placeholder(\"float\")\n",
    "\n",
    "\n",
    "# Set model weights ans bias\n",
    "\n",
    "W = tf.Variable(tf.random_normal([1]), name=\"weight\")\n",
    "b = tf.Variable(tf.random_normal([1]), name=\"bias\")\n",
    "\n",
    "# Set parameters\n",
    "learning_rate = 0.001\n",
    "training_iteration = 300\n",
    "\n",
    "# TODO: construct the linear regression\n",
    "predictions = \n",
    "\n",
    "# TODO: define the error function -> use the TensorFlow implementation of mean squared error\n",
    "\n",
    "error_function = \n",
    "\n",
    "# TODO: Select the GradientDescentOptimizer and create a train op in \"optimizer\"\n",
    "optimizer = \n",
    "\n",
    "# Initialize variables\n",
    "init = tf.global_variables_initializer()\n",
    "\n",
    "# Launch a graph\n",
    "with tf.Session() as sess:\n",
    "    sess.run(init)\n",
    "\n",
    "    display_step = 10\n",
    "    \n",
    "    # Fit all training data\n",
    "    for iteration in range(training_iteration):\n",
    "        \n",
    "        for (x, y) in zip(x_input_train_n, y_input_train_n):\n",
    "            _,evaled_error= sess.run([optimizer, error_function], feed_dict={X: x, Y: y})\n",
    "            \n",
    "        if iteration % display_step == 0:\n",
    "            print (\"Iteration: \"+str(iteration+1)+\" Error: \"+\" \"+str(evaled_error))\n",
    "            \n",
    "    # Display function and data\n",
    "    plt.figure()\n",
    "    plt.plot(x_input_train_n, y_input_train_n, 'ro', label='Normalized samples')\n",
    "    plt.plot(x_input_test_n, y_input_test_n, 'go', label='Normalized testing samples')\n",
    "    plt.plot(x_input_train_n, sess.run(predictions,feed_dict={X: x_input_train_n}), label='Fitted line')\n",
    "    plt.legend()\n",
    "    \n",
    "    plt.show()"
   ]
  },
  {
   "cell_type": "code",
   "execution_count": null,
   "metadata": {
    "collapsed": true
   },
   "outputs": [],
   "source": []
  },
  {
   "cell_type": "code",
   "execution_count": null,
   "metadata": {
    "collapsed": true
   },
   "outputs": [],
   "source": []
  }
 ],
 "metadata": {
  "kernelspec": {
   "display_name": "Python 3",
   "language": "python",
   "name": "python3"
  },
  "language_info": {
   "codemirror_mode": {
    "name": "ipython",
    "version": 3
   },
   "file_extension": ".py",
   "mimetype": "text/x-python",
   "name": "python",
   "nbconvert_exporter": "python",
   "pygments_lexer": "ipython3",
   "version": "3.6.0"
  }
 },
 "nbformat": 4,
 "nbformat_minor": 0
}
